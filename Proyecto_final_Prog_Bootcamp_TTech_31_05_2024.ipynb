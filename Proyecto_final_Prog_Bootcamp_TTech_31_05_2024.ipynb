{
  "nbformat": 4,
  "nbformat_minor": 0,
  "metadata": {
    "colab": {
      "provenance": [],
      "authorship_tag": "ABX9TyPUvTKJb/+dpQWgqIVYGWH8",
      "include_colab_link": true
    },
    "kernelspec": {
      "name": "python3",
      "display_name": "Python 3"
    },
    "language_info": {
      "name": "python"
    }
  },
  "cells": [
    {
      "cell_type": "markdown",
      "metadata": {
        "id": "view-in-github",
        "colab_type": "text"
      },
      "source": [
        "<a href=\"https://colab.research.google.com/github/William-Burbano-Lima/programacion_Talento_tech/blob/main/Proyecto_final_Prog_Bootcamp_TTech_31_05_2024.ipynb\" target=\"_parent\"><img src=\"https://colab.research.google.com/assets/colab-badge.svg\" alt=\"Open In Colab\"/></a>"
      ]
    },
    {
      "cell_type": "code",
      "execution_count": null,
      "metadata": {
        "id": "9vOgztsFnaXc"
      },
      "outputs": [],
      "source": []
    },
    {
      "cell_type": "markdown",
      "source": [
        "# Proyecto Final\n",
        "Gestion Empleados Empresa\n"
      ],
      "metadata": {
        "id": "vMZ3idQ8nbNK"
      }
    },
    {
      "cell_type": "markdown",
      "source": [
        "Importación del Módulo CSV"
      ],
      "metadata": {
        "id": "EaioEFXTnlEF"
      }
    },
    {
      "cell_type": "code",
      "source": [
        "import csv\n"
      ],
      "metadata": {
        "id": "wo7CVWLinsO6"
      },
      "execution_count": null,
      "outputs": []
    },
    {
      "cell_type": "markdown",
      "source": [
        "Este módulo se utiliza para trabajar con archivos CSV (valores separados por comas), permitiendo leer y escribir en estos archivos fácilmente."
      ],
      "metadata": {
        "id": "px5EI4vtny8l"
      }
    },
    {
      "cell_type": "markdown",
      "source": [
        "**Definición de la Clase Empleado**"
      ],
      "metadata": {
        "id": "or7f8PIenuRg"
      }
    },
    {
      "cell_type": "code",
      "source": [
        "class Empleado:\n",
        "    def __init__(self, nombre, apellido, edad, salario, dni, fecha_vinculacion):\n",
        "        self.nombre = nombre\n",
        "        self.apellido = apellido\n",
        "        self.edad = edad\n",
        "        self.salario = salario\n",
        "        self.dni = dni\n",
        "        self.fecha_vinculacion = fecha_vinculacion\n",
        "\n",
        "    def obtener_nombre_completo(self):\n",
        "        return f\"{self.nombre} {self.apellido}\"\n",
        "\n",
        "    def __str__(self):\n",
        "        return f\"{self.nombre} {self.apellido}, Edad: {self.edad}, Salario: {self.salario}, DNI: {self.dni}, Fecha de Vinculación: {self.fecha_vinculacion}\"\n"
      ],
      "metadata": {
        "id": "fOWLGmi3n7T2"
      },
      "execution_count": null,
      "outputs": []
    },
    {
      "cell_type": "markdown",
      "source": [
        "  * Constructor __init__: Inicializa un objeto Empleado con sus atributos.\n",
        "  * Método obtener_nombre_completo: Retorna el nombre completo del empleado.\n",
        "  * Método __str__: Retorna una representación en cadena del empleado."
      ],
      "metadata": {
        "id": "NPm1CjIboAmE"
      }
    },
    {
      "cell_type": "markdown",
      "source": [
        "**Definición de la Clase Jefe**"
      ],
      "metadata": {
        "id": "pyQzMlM4n9Ob"
      }
    },
    {
      "cell_type": "code",
      "source": [
        "class Jefe(Empleado):\n",
        "    def __init__(self, nombre, apellido, edad, salario, dni, fecha_vinculacion):\n",
        "        super().__init__(nombre, apellido, edad, salario, dni, fecha_vinculacion)\n",
        "        self.empleados_a_cargo = []\n",
        "\n",
        "    def agregar_empleado(self, empleado):\n",
        "        self.empleados_a_cargo.append(empleado)\n",
        "\n",
        "    def listar_empleados_a_cargo(self):\n",
        "        return [empleado.obtener_nombre_completo() for empleado in self.empleados_a_cargo]\n",
        "\n",
        "    def __str__(self):\n",
        "        return f\"{super().__str__()}, Empleados a Cargo: {', '.join(self.listar_empleados_a_cargo())}\"\n"
      ],
      "metadata": {
        "id": "pgjak9tPoNUU"
      },
      "execution_count": null,
      "outputs": []
    },
    {
      "cell_type": "markdown",
      "source": [
        "  * Herencia: Jefe hereda de Empleado.\n",
        "  * Atributo empleados_a_cargo: Lista para almacenar empleados a cargo.\n",
        "  * Método agregar_empleado: Añade un empleado a la lista empleados_a_cargo.\n",
        "  * Método listar_empleados_a_cargo: Retorna una lista de nombres completos de los empleados a cargo.\n",
        "  * Método __str__: Añade información sobre los empleados a cargo a la representación en cadena del objeto."
      ],
      "metadata": {
        "id": "oQ6lC0cWoRMG"
      }
    },
    {
      "cell_type": "markdown",
      "source": [
        "**Definición de la Clase Area**"
      ],
      "metadata": {
        "id": "qzuWN25zokPN"
      }
    },
    {
      "cell_type": "code",
      "source": [
        "class Area:\n",
        "    def __init__(self, nombre, descripcion):\n",
        "        self.nombre = nombre\n",
        "        self.descripcion = descripcion\n",
        "        self.empleados = []\n",
        "\n",
        "    def agregar_empleado(self, empleado):\n",
        "        self.empleados.append(empleado)\n",
        "\n",
        "    def listar_empleados(self):\n",
        "        return [empleado.obtener_nombre_completo() for empleado in self.empleados]\n",
        "\n",
        "    def __str__(self):\n",
        "        return f\"Área: {self.nombre}, Descripción: {self.descripcion}, Empleados: {', '.join(self.listar_empleados())}\"\n"
      ],
      "metadata": {
        "id": "zO9OtBIqonSc"
      },
      "execution_count": null,
      "outputs": []
    },
    {
      "cell_type": "markdown",
      "source": [
        "  * Constructor __init__: Inicializa un objeto Area con sus atributos.\n",
        "  * Atributo empleados: Lista para almacenar empleados en el área.\n",
        "  * Método agregar_empleado: Añade un empleado a la lista empleados.\n",
        "  * Método listar_empleados: Retorna una lista de nombres completos de los empleados del área.\n",
        "  * Método __str__: Retorna una representación en cadena del área con su nombre, descripción y empleados."
      ],
      "metadata": {
        "id": "boBgzxNFoqdR"
      }
    },
    {
      "cell_type": "markdown",
      "source": [
        "**Definición de la Clase SistemaGestionEmpleados**"
      ],
      "metadata": {
        "id": "L8ILwlxaoyv0"
      }
    },
    {
      "cell_type": "code",
      "source": [
        "class SistemaGestionEmpleados:\n",
        "    def __init__(self):\n",
        "        self.empleados = []\n",
        "        self.jefes = []\n",
        "        self.areas = []\n",
        "\n",
        "    def agregar_empleado(self, empleado):\n",
        "        self.empleados.append(empleado)\n",
        "\n",
        "    def agregar_jefe(self, jefe):\n",
        "        self.jefes.append(jefe)\n",
        "\n",
        "    def agregar_area(self, area):\n",
        "        self.areas.append(area)\n"
      ],
      "metadata": {
        "id": "Sl00AudNo24-"
      },
      "execution_count": null,
      "outputs": []
    },
    {
      "cell_type": "markdown",
      "source": [
        "  * Constructor __init__: Inicializa listas vacías para empleados, jefes y áreas.\n",
        "  * Método agregar_empleado: Añade un empleado a la lista empleados.\n",
        "  * Método agregar_jefe: Añade un jefe a la lista jefes.\n",
        "  * Método agregar_area: Añade un área a la lista areas."
      ],
      "metadata": {
        "id": "ENlVWSjOo2EY"
      }
    },
    {
      "cell_type": "markdown",
      "source": [
        "**Métodos para Guardar y Cargar Datos**\n",
        "**Guardar Datos en Archivos CSV**"
      ],
      "metadata": {
        "id": "mR3K9accpB03"
      }
    },
    {
      "cell_type": "code",
      "source": [
        "def guardar_datos(self, archivo_empleados, archivo_jefes, archivo_areas):\n",
        "    with open(archivo_empleados, 'w', newline='') as f:\n",
        "        writer = csv.writer(f)\n",
        "        writer.writerow(['Nombre', 'Apellido', 'Edad', 'Salario', 'DNI', 'Fecha de Vinculación'])\n",
        "        for empleado in self.empleados:\n",
        "            writer.writerow([empleado.nombre, empleado.apellido, empleado.edad, empleado.salario, empleado.dni, empleado.fecha_vinculacion])\n",
        "\n",
        "    with open(archivo_jefes, 'w', newline='') as f:\n",
        "        writer = csv.writer(f)\n",
        "        writer.writerow(['Nombre', 'Apellido', 'Edad', 'Salario', 'DNI', 'Fecha de Vinculación', 'Empleados a Cargo'])\n",
        "        for jefe in self.jefes:\n",
        "            writer.writerow([jefe.nombre, jefe.apellido, jefe.edad, jefe.salario, jefe.dni, jefe.fecha_vinculacion, ', '.join(jefe.listar_empleados_a_cargo())])\n",
        "\n",
        "    with open(archivo_areas, 'w', newline='') as f:\n",
        "        writer = csv.writer(f)\n",
        "        writer.writerow(['Nombre Área', 'Descripción', 'Empleados'])\n",
        "        for area in self.areas:\n",
        "            writer.writerow([area.nombre, area.descripcion, ', '.join(area.listar_empleados())])\n"
      ],
      "metadata": {
        "id": "zAzLKYl4pKgR"
      },
      "execution_count": null,
      "outputs": []
    },
    {
      "cell_type": "markdown",
      "source": [
        "  * Archivo Empleados: Guarda los datos de empleados en un archivo CSV.\n",
        "  * Archivo Jefes: Guarda los datos de jefes y sus empleados a cargo en un archivo CSV.\n",
        "  * Archivo Áreas: Guarda los datos de áreas y sus empleados en un archivo CSV."
      ],
      "metadata": {
        "id": "AicEclNXpNw8"
      }
    },
    {
      "cell_type": "markdown",
      "source": [
        "**Cargar Datos desde Archivos CSV**"
      ],
      "metadata": {
        "id": "BWz58FcUpTWd"
      }
    },
    {
      "cell_type": "code",
      "source": [
        "def cargar_datos(self, archivo_empleados, archivo_jefes, archivo_areas):\n",
        "    with open(archivo_empleados, 'r') as f:\n",
        "        reader = csv.reader(f)\n",
        "        next(reader)  # Saltar la primera fila que contiene los encabezados\n",
        "        for row in reader:\n",
        "            if len(row) < 6:\n",
        "                continue  # Ignorar filas incompletas\n",
        "            empleado = Empleado(row[0], row[1], int(row[2]), float(row[3]), row[4], row[5])\n",
        "            self.empleados.append(empleado)\n",
        "\n",
        "    with open(archivo_jefes, 'r') as f:\n",
        "        reader = csv.reader(f)\n",
        "        next(reader)  # Saltar la primera fila que contiene los encabezados\n",
        "        for row in reader:\n",
        "            if len(row) < 6:\n",
        "                continue  # Ignorar filas incompletas\n",
        "            jefe = Jefe(row[0], row[1], int(row[2]), float(row[3]), row[4], row[5])\n",
        "            self.jefes.append(jefe)\n",
        "            if len(row) > 6 and row[6]:\n",
        "                empleados_a_cargo = row[6].split(', ')\n",
        "                for emp_nombre in empleados_a_cargo:\n",
        "                    for emp in self.empleados:\n",
        "                        if emp.obtener_nombre_completo() == emp_nombre:\n",
        "                            jefe.agregar_empleado(emp)\n",
        "\n",
        "    with open(archivo_areas, 'r') as f:\n",
        "        reader = csv.reader(f)\n",
        "        next(reader)  # Saltar la primera fila que contiene los encabezados\n",
        "        for row in reader:\n",
        "            if len(row) < 3:\n",
        "                continue  # Ignorar filas incompletas\n",
        "            area = Area(row[0], row[1])\n",
        "            self.areas.append(area)\n",
        "            if row[2]:\n",
        "                empleados_area = row[2].split(', ')\n",
        "                for emp_nombre in empleados_area:\n",
        "                    for emp in self.empleados:\n",
        "                        if emp.obtener_nombre_completo() == emp_nombre:\n",
        "                            area.agregar_empleado(emp)\n"
      ],
      "metadata": {
        "id": "y1RthKzXpWxR"
      },
      "execution_count": null,
      "outputs": []
    },
    {
      "cell_type": "markdown",
      "source": [
        "  * Archivo Empleados: Carga los datos de empleados desde un archivo CSV y los añade a la lista empleados.\n",
        "  * Archivo Jefes: Carga los datos de jefes y sus empleados a cargo desde un archivo CSV y los añade a la lista jefes.\n",
        "  * Archivo Áreas: Carga los datos de áreas y sus empleados desde un archivo CSV y los añade a la lista areas."
      ],
      "metadata": {
        "id": "CiBqoD9ipbjR"
      }
    },
    {
      "cell_type": "markdown",
      "source": [
        "**Ejemplo de Uso**"
      ],
      "metadata": {
        "id": "q4j4ey6Dpjpg"
      }
    },
    {
      "cell_type": "code",
      "source": [
        "sistema = SistemaGestionEmpleados()\n"
      ],
      "metadata": {
        "id": "H-o03pAg8M1h"
      },
      "execution_count": null,
      "outputs": []
    },
    {
      "cell_type": "code",
      "source": [
        "empleado1 = Empleado(\"Juan\", \"Perez\", 30, 30000, \"12345678\", \"01/01/2020\")\n",
        "empleado2 = Empleado(\"Maria\", \"Gomez\", 25, 25000, \"87654321\", \"01/01/2021\")\n",
        "empleado3 = Empleado(\"Luis\", \"Martinez\", 28, 28000, \"23456789\", \"01/02/2020\")\n"
      ],
      "metadata": {
        "id": "CNJFgsnB8RZG"
      },
      "execution_count": null,
      "outputs": []
    },
    {
      "cell_type": "code",
      "source": [
        "jefe1 = Jefe(\"Carlos\", \"Lopez\", 40, 40000, \"98765432\", \"01/01/2010\")\n",
        "jefe2 = Jefe(\"Ana\", \"Rodriguez\", 35, 35000, \"87654322\", \"01/03/2012\")\n"
      ],
      "metadata": {
        "id": "41AS4_QS8VJg"
      },
      "execution_count": null,
      "outputs": []
    },
    {
      "cell_type": "code",
      "source": [
        "jefe1.agregar_empleado(empleado1)\n",
        "jefe1.agregar_empleado(empleado2)\n",
        "jefe2.agregar_empleado(empleado3)\n"
      ],
      "metadata": {
        "id": "al_fEZ4R8Yk_"
      },
      "execution_count": null,
      "outputs": []
    },
    {
      "cell_type": "code",
      "source": [
        "area1 = Area(\"Desarrollo\", \"Responsable del desarrollo de software\")\n",
        "area2 = Area(\"Marketing\", \"Responsable de la estrategia de marketing\")\n"
      ],
      "metadata": {
        "id": "0pq9u7k_8bHl"
      },
      "execution_count": null,
      "outputs": []
    },
    {
      "cell_type": "code",
      "source": [
        "area1.agregar_empleado(empleado1)\n",
        "area1.agregar_empleado(empleado3)\n",
        "area2.agregar_empleado(empleado2)\n"
      ],
      "metadata": {
        "id": "WDxxry8X8du_"
      },
      "execution_count": null,
      "outputs": []
    },
    {
      "cell_type": "code",
      "source": [
        "sistema.agregar_empleado(empleado1)\n",
        "sistema.agregar_empleado(empleado2)\n",
        "sistema.agregar_empleado(empleado3)\n",
        "sistema.agregar_jefe(jefe1)\n",
        "sistema.agregar_jefe(jefe2)\n",
        "sistema.agregar_area(area1)\n",
        "sistema.agregar_area(area2)\n"
      ],
      "metadata": {
        "id": "N3SBOqAh8g3n"
      },
      "execution_count": null,
      "outputs": []
    },
    {
      "cell_type": "code",
      "source": [
        "sistema.guardar_datos('empleados.csv', 'jefes.csv', 'areas.csv')\n"
      ],
      "metadata": {
        "id": "WOshqQoP8k5h"
      },
      "execution_count": null,
      "outputs": []
    },
    {
      "cell_type": "code",
      "source": [
        "sistema.cargar_datos('empleados.csv', 'jefes.csv', 'areas.csv')\n"
      ],
      "metadata": {
        "id": "FTG7CFEG8oEA"
      },
      "execution_count": null,
      "outputs": []
    },
    {
      "cell_type": "code",
      "source": [
        "print(\"Empleados:\")\n",
        "for empleado in sistema.empleados:\n",
        "    print(empleado)\n",
        "\n",
        "print(\"\\nJefes:\")\n",
        "for jefe in sistema.jefes:\n",
        "    print(jefe)\n",
        "\n",
        "print(\"\\nÁreas:\")\n",
        "for area in sistema.areas:\n",
        "    print(area)\n"
      ],
      "metadata": {
        "id": "U03VHxDd8r7J"
      },
      "execution_count": null,
      "outputs": []
    }
  ]
}