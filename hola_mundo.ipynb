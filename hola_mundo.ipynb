{
  "nbformat": 4,
  "nbformat_minor": 0,
  "metadata": {
    "colab": {
      "provenance": [],
      "authorship_tag": "ABX9TyNC83RaXyG/7gT/VEf3aWIb",
      "include_colab_link": true
    },
    "kernelspec": {
      "name": "python3",
      "display_name": "Python 3"
    },
    "language_info": {
      "name": "python"
    }
  },
  "cells": [
    {
      "cell_type": "markdown",
      "metadata": {
        "id": "view-in-github",
        "colab_type": "text"
      },
      "source": [
        "<a href=\"https://colab.research.google.com/github/William-Burbano-Lima/programacion_Talento_tech/blob/main/hola_mundo.ipynb\" target=\"_parent\"><img src=\"https://colab.research.google.com/assets/colab-badge.svg\" alt=\"Open In Colab\"/></a>"
      ]
    },
    {
      "cell_type": "code",
      "execution_count": null,
      "metadata": {
        "id": "RUMo5uCp4bRz"
      },
      "outputs": [],
      "source": []
    },
    {
      "cell_type": "code",
      "source": [],
      "metadata": {
        "id": "3M2lDBvH4b7f"
      },
      "execution_count": null,
      "outputs": []
    },
    {
      "cell_type": "markdown",
      "source": [
        "Script \"Hola Mundo\" en 10 lenguajes de programación diferentes que puedes ejecutar en **Visual Studio** o **Visual Studio Code**.  \n",
        "\n",
        "---\n",
        "\n",
        "### **1. Python**  \n",
        "Guárdalo como `hola_mundo.py`  \n",
        "```python\n",
        "print(\"Hola Mundo\")\n",
        "```\n",
        "\n",
        "---\n",
        "\n",
        "### **2. JavaScript (Node.js)**  \n",
        "Guárdalo como `hola_mundo.js`  \n",
        "```javascript\n",
        "console.log(\"Hola Mundo\");\n",
        "```\n",
        "\n",
        "---\n",
        "\n",
        "### **3. C# (.NET Console App)**  \n",
        "Guárdalo como `Program.cs`  \n",
        "```csharp\n",
        "using System;\n",
        "\n",
        "class Program {\n",
        "    static void Main() {\n",
        "        Console.WriteLine(\"Hola Mundo\");\n",
        "    }\n",
        "}\n",
        "```\n",
        "\n",
        "---\n",
        "\n",
        "### **4. Java**  \n",
        "Guárdalo como `HolaMundo.java`  \n",
        "```java\n",
        "public class HolaMundo {\n",
        "    public static void main(String[] args) {\n",
        "        System.out.println(\"Hola Mundo\");\n",
        "    }\n",
        "}\n",
        "```\n",
        "\n",
        "---\n",
        "\n",
        "### **5. C++**  \n",
        "Guárdalo como `hola_mundo.cpp`  \n",
        "```cpp\n",
        "#include <iostream>\n",
        "using namespace std;\n",
        "\n",
        "int main() {\n",
        "    cout << \"Hola Mundo\" << endl;\n",
        "    return 0;\n",
        "}\n",
        "```\n",
        "\n",
        "---\n",
        "\n",
        "### **6. Go**  \n",
        "Guárdalo como `hola_mundo.go`  \n",
        "```go\n",
        "package main\n",
        "import \"fmt\"\n",
        "\n",
        "func main() {\n",
        "    fmt.Println(\"Hola Mundo\")\n",
        "}\n",
        "```\n",
        "\n",
        "---\n",
        "\n",
        "### **7. PHP**  \n",
        "Guárdalo como `hola_mundo.php`  \n",
        "```php\n",
        "<?php\n",
        "echo \"Hola Mundo\";\n",
        "?>\n",
        "```\n",
        "\n",
        "---\n",
        "\n",
        "### **8. Swift**  \n",
        "Guárdalo como `hola_mundo.swift`  \n",
        "```swift\n",
        "print(\"Hola Mundo\")\n",
        "```\n",
        "\n",
        "---\n",
        "\n",
        "### **9. Ruby**  \n",
        "Guárdalo como `hola_mundo.rb`  \n",
        "```ruby\n",
        "puts \"Hola Mundo\"\n",
        "```\n",
        "\n",
        "---\n",
        "\n",
        "### **10. TypeScript**  \n",
        "Guárdalo como `hola_mundo.ts`  \n",
        "```typescript\n",
        "console.log(\"Hola Mundo\");\n",
        "```\n",
        "\n",
        "---\n",
        "\n",
        "### **Ejecutar en Visual Studio Code**  \n",
        "Si usas **Visual Studio Code**, sigue estos pasos:  \n",
        "1. **Instala las extensiones necesarias** según el lenguaje (Python, C++, C#, Java, etc.).  \n",
        "2. Abre el archivo en VS Code.  \n",
        "3. Ejecuta el código usando el **terminal** o presionando `F5` (según el lenguaje).  \n",
        "\n",
        " **William Burbano Lima. 🚀"
      ],
      "metadata": {
        "id": "UMubWjC74cxj"
      }
    },
    {
      "cell_type": "code",
      "source": [],
      "metadata": {
        "id": "DU7XKPIX-iyH"
      },
      "execution_count": null,
      "outputs": []
    }
  ]
}